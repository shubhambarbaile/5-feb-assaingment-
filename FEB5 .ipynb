{
 "cells": [
  {
   "cell_type": "code",
   "execution_count": 1,
   "id": "8dad0465-0394-439e-84ea-da4a565e986b",
   "metadata": {},
   "outputs": [
    {
     "data": {
      "text/plain": [
       "'Class = Class is blueprint of an objects.\\nex = There is many breads of dogs and all diffrent from others but all breads are belong to dog class itself.\\n\\nObject = object is instance of class \\nex = dog has many breads (lab, bull , pom)'"
      ]
     },
     "execution_count": 1,
     "metadata": {},
     "output_type": "execute_result"
    }
   ],
   "source": [
    "\"\"\"Class = Class is blueprint of an objects.\n",
    "ex = There is many breads of dogs and all diffrent from others but all breads are belong to dog class itself.\n",
    "\n",
    "Object = object is instance of class \n",
    "ex = dog has many breads (lab, bull , pom)\"\"\""
   ]
  },
  {
   "cell_type": "code",
   "execution_count": null,
   "id": "207a8c95-c40e-40d4-a826-0c321f98aa94",
   "metadata": {},
   "outputs": [],
   "source": [
    "\"\"\"The four pillar of oops are \n",
    "1 - inheritance \n",
    "2 - polymorphisam \n",
    "3 - Encapsulation \n",
    "4 - abstraction\"\"\""
   ]
  },
  {
   "cell_type": "code",
   "execution_count": null,
   "id": "d2a36021-b041-4b48-b946-14b72e94ee60",
   "metadata": {},
   "outputs": [],
   "source": [
    "# The __int__() function is used to intiate the attribute of the class , it is also called as constucter, it is the special method it is used when the new class is created \n",
    "# ex = if the person is class then age, height, weight are attributes "
   ]
  },
  {
   "cell_type": "code",
   "execution_count": 2,
   "id": "159ac17d-4c22-498f-af3e-7dfdc8f75bfd",
   "metadata": {},
   "outputs": [],
   "source": [
    "#self is used to bind the object with the class, self is called as pointer or refrence point for the variable which is present in the class."
   ]
  },
  {
   "cell_type": "code",
   "execution_count": null,
   "id": "d4cb96cb-7669-4fe6-8ff5-2086bec02fb2",
   "metadata": {},
   "outputs": [],
   "source": [
    "# Inheritance is the mechanism of inherting the properties of the base class to the child class. \n",
    "# There are 5 types of Inheritance \n",
    "# 1 - Single inheritance \n",
    "# 2 - multiple inheritance \n",
    "# 3 - Multilevel inheritance\n",
    "# 4 - Hirarchial inheritance \n",
    "# 5 - Hybrid inheritance"
   ]
  }
 ],
 "metadata": {
  "kernelspec": {
   "display_name": "Python 3 (ipykernel)",
   "language": "python",
   "name": "python3"
  },
  "language_info": {
   "codemirror_mode": {
    "name": "ipython",
    "version": 3
   },
   "file_extension": ".py",
   "mimetype": "text/x-python",
   "name": "python",
   "nbconvert_exporter": "python",
   "pygments_lexer": "ipython3",
   "version": "3.10.8"
  }
 },
 "nbformat": 4,
 "nbformat_minor": 5
}
